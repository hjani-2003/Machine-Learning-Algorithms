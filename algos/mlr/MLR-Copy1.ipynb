{
 "cells": [
  {
   "cell_type": "code",
   "execution_count": 8,
   "id": "609860d2",
   "metadata": {},
   "outputs": [],
   "source": [
    "import pandas as pd\n",
    "import matplotlib.pyplot as plt\n",
    "from itertools import combinations\n",
    "from sklearn.model_selection import train_test_split\n",
    "from sklearn.linear_model import LinearRegression\n",
    "from sklearn import metrics\n",
    "from IPython.display import display, Markdown"
   ]
  },
  {
   "cell_type": "code",
   "execution_count": 9,
   "id": "338c1f1b",
   "metadata": {},
   "outputs": [],
   "source": [
    "df = pd.read_csv('dummy.csv')\n",
    "x_df = df.drop(columns='Y')\n",
    "columns = x_df.columns.tolist()\n",
    "model_column = []\n",
    "r2_score_values = []\n",
    "mae_score_values = []\n",
    "mse_score_values = []\n",
    "for r in range(1, len(columns) + 1):\n",
    "    for subset in combinations(columns, r):\n",
    "        features = df.loc[:, (list(subset))]\n",
    "        model_column.append(subset)\n",
    "        target = df.loc[:, 'Y']\n",
    "        X_train, X_test, y_train, y_test = train_test_split(features, target, test_size=0.2,random_state = 42)\n",
    "        model = LinearRegression(fit_intercept=True)\n",
    "        model.fit(X_train, y_train)\n",
    "        pred = model.predict(X_test)\n",
    "        r2_score_values.append(metrics.r2_score(y_test, pred))\n",
    "        mae_score_values.append(metrics.mean_absolute_error(y_test, pred))\n",
    "        mse_score_values.append(metrics.mean_squared_error(y_test, pred))\n",
    "        # print('R squared: {}'.format(metrics.r2_score(y_test, pred)))\n",
    "        # print('MAE: {}'.format(metrics.mean_absolute_error(y_test, pred)))\n",
    "        # print('RMSE: {}'.format(metrics.mean_squared_error(y_test, pred)**0.5))\n",
    "        # display(Markdown('### Regression plot'))\n",
    "        # plt.scatter(y_test, pred)\n",
    "        # plt.xlabel('y_test')\n",
    "        # plt.ylabel('pred')\n",
    "        # plt.show()"
   ]
  },
  {
   "cell_type": "code",
   "execution_count": 10,
   "id": "913bdd11-666d-4ce9-a2f3-7aa04901c58a",
   "metadata": {},
   "outputs": [
    {
     "name": "stdout",
     "output_type": "stream",
     "text": [
      "98\n",
      "98\n",
      "98\n",
      "('X', 'X1', 'X2', 'X*X1', 'X*X2')\n"
     ]
    }
   ],
   "source": [
    "# print(model_column)\n",
    "# print(r2_score_values)\n",
    "# print(mae_score_values)\n",
    "# print(mse_score_values)\n",
    "# print(r2_score_values.index(max(r2_score_values)))\n",
    "value_is = r2_score_values.index(max(r2_score_values))\n",
    "print(r2_score_values.index(max(r2_score_values)))\n",
    "print(r2_score_values.index(max(r2_score_values)))\n",
    "print(r2_score_values.index(max(r2_score_values)))\n",
    "print(model_column[value_is])"
   ]
  },
  {
   "cell_type": "code",
   "execution_count": 16,
   "id": "d9a22ba4-4d67-4da3-928b-62c7960b222b",
   "metadata": {},
   "outputs": [
    {
     "name": "stdout",
     "output_type": "stream",
     "text": [
      "R squared: 0.9985025795965807\n",
      "MAE: 1.1795538577874158\n",
      "RMSE: 1.2303355834129601\n"
     ]
    },
    {
     "data": {
      "text/markdown": [
       "### Regression plot"
      ],
      "text/plain": [
       "<IPython.core.display.Markdown object>"
      ]
     },
     "metadata": {},
     "output_type": "display_data"
    },
    {
     "data": {
      "image/png": "[encoded data removed]",
      "text/plain": [
       "<Figure size 640x480 with 1 Axes>"
      ]
     },
     "metadata": {},
     "output_type": "display_data"
    },
    {
     "name": "stdout",
     "output_type": "stream",
     "text": [
      "9     72\n",
      "11    85\n",
      "0     12\n",
      "Name: Y, dtype: int64\n",
      "Pred:  [73.19321546 83.39899253 11.25556135]\n",
      "-101.36891084888313\n",
      "[ 1.67988775e-02 -5.51762639e-03  2.14898725e-03  2.38123556e-06\n",
      " -2.75709435e-07]\n"
     ]
    }
   ],
   "source": [
    "features = df.loc[:, model_column[value_is]]\n",
    "# Visual Python: Data Analysis > Subset\n",
    "target = df.loc[:, 'Y']\n",
    "X_train, X_test, y_train, y_test = train_test_split(features, target, test_size=0.2,random_state = 42)\n",
    "model = LinearRegression(fit_intercept=True)\n",
    "model.fit(X_train, y_train)\n",
    "pred = model.predict(X_test)\n",
    "print('R squared: {}'.format(metrics.r2_score(y_test, pred)))\n",
    "print('MAE: {}'.format(metrics.mean_absolute_error(y_test, pred)))\n",
    "print('RMSE: {}'.format(metrics.mean_squared_error(y_test, pred)**0.5))\n",
    "display(Markdown('### Regression plot'))\n",
    "plt.scatter(y_test, pred)\n",
    "plt.xlabel('y_test')\n",
    "plt.ylabel('pred')\n",
    "plt.show()\n",
    "print(y_test)\n",
    "print(\"Pred: \",pred)\n",
    "print(model.intercept_)\n",
    "print(model.coef_)"
   ]
  }
 ],
 "metadata": {
  "kernelspec": {
   "display_name": "Python 3 (ipykernel)",
   "language": "python",
   "name": "python3"
  },
  "language_info": {
   "codemirror_mode": {
    "name": "ipython",
    "version": 3
   },
   "file_extension": ".py",
   "mimetype": "text/x-python",
   "name": "python",
   "nbconvert_exporter": "python",
   "pygments_lexer": "ipython3",
   "version": "3.12.1"
  },
  "vp": {
   "vp_config_version": "1.0.0",
   "vp_menu_width": 273,
   "vp_note_display": false,
   "vp_note_width": 0,
   "vp_position": {
    "width": 278
   },
   "vp_section_display": true,
   "vp_signature": "VisualPython"
  }
 },
 "nbformat": 4,
 "nbformat_minor": 5
}
